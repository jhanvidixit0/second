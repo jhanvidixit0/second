{
  "nbformat": 4,
  "nbformat_minor": 0,
  "metadata": {
    "colab": {
      "provenance": []
    },
    "kernelspec": {
      "name": "python3",
      "display_name": "Python 3"
    },
    "language_info": {
      "name": "python"
    }
  },
  "cells": [
    {
      "cell_type": "markdown",
      "source": [
        "1 - Discuss string slicing and provide examples.\n",
        "\n",
        "Answer - String slicing in Python is a technique used to access a subset of characters from a string. This is done by specifying a range of indices."
      ],
      "metadata": {
        "id": "kuQRIgVADQPN"
      }
    },
    {
      "cell_type": "code",
      "source": [
        "s = \"Hello, World!\"\n",
        "substring = s[0:5]\n",
        "print(substring)\n",
        "\n",
        "\n",
        "s = \"Hello, World!\"\n",
        "sn= s[:5]\n",
        "sl= s[7:]\n",
        "print(sn)\n",
        "print(sl)\n"
      ],
      "metadata": {
        "colab": {
          "base_uri": "https://localhost:8080/"
        },
        "id": "xT913ZmRFpoS",
        "outputId": "9e56e998-cfde-4fd5-ef0e-6e4bea33fef8"
      },
      "execution_count": null,
      "outputs": [
        {
          "output_type": "stream",
          "name": "stdout",
          "text": [
            "Hello\n",
            "Hello\n",
            "World!\n"
          ]
        }
      ]
    },
    {
      "cell_type": "code",
      "source": [
        "s = \"Hello, World!\"\n",
        "l = s[-4]\n",
        "print(l)\n",
        "\n",
        "s = \"Hello, World!\"\n",
        "custom_slice = s[2:9:2]\n",
        "print(custom_slice)\n"
      ],
      "metadata": {
        "colab": {
          "base_uri": "https://localhost:8080/"
        },
        "id": "7FKun5ioIZns",
        "outputId": "7e5799f2-be8b-4825-9392-f5a72740c558"
      },
      "execution_count": null,
      "outputs": [
        {
          "output_type": "stream",
          "name": "stdout",
          "text": [
            "r\n",
            "lo o\n"
          ]
        }
      ]
    },
    {
      "cell_type": "markdown",
      "source": [
        "2 - Explain the key features of lists in Python.\n",
        "\n",
        "Answer - Lists in Python are one of the most versatile and commonly used data structures. They are ordered, mutable, and can hold a variety of object types. The key features of lists is Ordered,Mutable,Dynamic,Heterogeneous,indexing and Slicing,Built-in Functions and Methods, etc.\n",
        "\n",
        "Ordered Collection - Lists maintain the order of items. The order in which elements are added is preserved.Each element in a list has a specific index, starting from 0.\n",
        "\n",
        "Mutable - Lists can be modified after their creation. Elements can be added, removed, or changed.This is different from tuples, which are immutable.\n",
        "\n",
        "Dynamic - Lists can grow or shrink in size. You can add or remove elements as needed.\n",
        "\n",
        "Heterogeneous Elements - A list can contain elements of different data types, including integers, strings, floats, objects, and even other lists.\n",
        "\n",
        "3 - Describe how to access, modify and delete elements in a list with examples.\n",
        "\n",
        "Answer - (Access) In Python, you can access elements in a list using indexing and slicing.\n",
        "\n",
        "Indexing - Indexing allows you to access individual elements by their position. Indices start at 0 for the first element and increase by 1 for each subsequent element.\n",
        "\n",
        "Slicing - Slicing allows you to access a range of elements.where start is the index of the first element to include, and stop is the index of the first element to exclude.\n",
        "\n",
        "Modify - Modifying elements in a list in Python can be done in several ways, including changing individual elements, modifying multiple elements at once, and using list comprehensions.\n",
        "\n",
        "Delete - Deleting elements in a list can be done using various methods in Python, including the del statement, the remove() method, and the pop() method."
      ],
      "metadata": {
        "id": "JBmRk6uGGALP"
      }
    },
    {
      "cell_type": "code",
      "source": [
        "#indexing\n",
        "my_list = [10, 20, 30, 40, 50]\n",
        "a = my_list[0]\n",
        "b = my_list[2]\n",
        "\n",
        "print(a)\n",
        "print(b)\n",
        "\n"
      ],
      "metadata": {
        "colab": {
          "base_uri": "https://localhost:8080/"
        },
        "id": "KYJXnzOMGEBr",
        "outputId": "6a838c82-6bdd-4d47-d24d-b7cf15fcea3b"
      },
      "execution_count": null,
      "outputs": [
        {
          "output_type": "stream",
          "name": "stdout",
          "text": [
            "10\n",
            "30\n"
          ]
        }
      ]
    },
    {
      "cell_type": "code",
      "source": [
        "#slicing\n",
        "my_list = [10, 20, 30, 40, 50]\n",
        "a = my_list[0:5]\n",
        "b = my_list[2:-2]\n",
        "\n",
        "print(a)\n",
        "print(b)"
      ],
      "metadata": {
        "id": "EMYZJ_wMIwuA"
      },
      "execution_count": null,
      "outputs": []
    },
    {
      "cell_type": "code",
      "source": [
        "#modify\n",
        "my_list = [10, 20, 30, 40, 50]\n",
        "my_list[1] = 25\n",
        "print(my_list)"
      ],
      "metadata": {
        "colab": {
          "base_uri": "https://localhost:8080/"
        },
        "id": "nO7wBMhOI4Hh",
        "outputId": "99d0b4f7-45e4-44ad-8545-c0d288fd2892"
      },
      "execution_count": null,
      "outputs": [
        {
          "output_type": "stream",
          "name": "stdout",
          "text": [
            "[10, 25, 30, 40, 50]\n"
          ]
        }
      ]
    },
    {
      "cell_type": "code",
      "source": [
        "#delete\n",
        "my_list = [10, 20, 30, 40, 50]\n",
        "del my_list[2]\n",
        "print(my_list)"
      ],
      "metadata": {
        "colab": {
          "base_uri": "https://localhost:8080/"
        },
        "id": "NkuJFrr0I8gK",
        "outputId": "20de8b15-bd52-4426-fdd1-89017b841595"
      },
      "execution_count": null,
      "outputs": [
        {
          "output_type": "stream",
          "name": "stdout",
          "text": [
            "[10, 20, 40, 50]\n"
          ]
        }
      ]
    },
    {
      "cell_type": "code",
      "source": [
        "#remove\n",
        "my_list = [10, 20, 30, 40, 50]\n",
        "my_list.remove(30)\n",
        "print(my_list)"
      ],
      "metadata": {
        "colab": {
          "base_uri": "https://localhost:8080/"
        },
        "id": "OPTPT2mfJDMB",
        "outputId": "9a6cc5f2-dbd5-40ab-c5b6-f8ccf135735d"
      },
      "execution_count": null,
      "outputs": [
        {
          "output_type": "stream",
          "name": "stdout",
          "text": [
            "[10, 20, 40, 50]\n"
          ]
        }
      ]
    },
    {
      "cell_type": "code",
      "source": [
        "#pop\n",
        "my_list = [10, 20, 30, 40, 50]\n",
        "last_element = my_list.pop()\n",
        "print(last_element)\n",
        "print(my_list)\n"
      ],
      "metadata": {
        "colab": {
          "base_uri": "https://localhost:8080/"
        },
        "id": "Nok06tjwJHeb",
        "outputId": "7ce079df-84dd-41e9-db28-977b58f0d7d9"
      },
      "execution_count": null,
      "outputs": [
        {
          "output_type": "stream",
          "name": "stdout",
          "text": [
            "50\n",
            "[10, 20, 30, 40]\n"
          ]
        }
      ]
    },
    {
      "cell_type": "markdown",
      "source": [
        "\n",
        "4 - Compare and contrast tuples and lists with examples.\n",
        "\n",
        "Answer - Tuples and lists are both sequence data types in Python that can store a collection of items.\n",
        "\n",
        "Similarities - Ordered - Both tuples and lists maintain the order of elements. Indexing: Elements in both tuples and lists can be accessed using indexing and slicing. Heterogeneous: Both can store elements of different data types Iterability: Both can be iterated over using loops.\n",
        "\n",
        "Differences Mutability - Lists are mutable, meaning their elements can be changed after creation. Tuples are immutable, meaning once created, their elements cannot be changed. List are enclosed with square brackets [],whereas tuple are enclosed with parentheses ()"
      ],
      "metadata": {
        "id": "QvexYJ72GSvu"
      }
    },
    {
      "cell_type": "code",
      "source": [
        "#list\n",
        "my_list = [1, 2, 3, 4]\n",
        "print(my_list)\n",
        "\n",
        "# Modifying the list\n",
        "my_list[0] = 10\n",
        "print(my_list)\n",
        "\n",
        "# Adding an element\n",
        "my_list.append(5)\n",
        "print(my_list)\n",
        "\n",
        "# Removing an element\n",
        "my_list.remove(3)\n",
        "print(my_list)\n",
        "\n"
      ],
      "metadata": {
        "colab": {
          "base_uri": "https://localhost:8080/"
        },
        "id": "ReplKYsAGXET",
        "outputId": "ebe8bf65-3c58-4bf9-f947-82d951eee40e"
      },
      "execution_count": null,
      "outputs": [
        {
          "output_type": "stream",
          "name": "stdout",
          "text": [
            "[1, 2, 3, 4]\n",
            "[10, 2, 3, 4]\n",
            "[10, 2, 3, 4, 5]\n",
            "[10, 2, 4, 5]\n"
          ]
        }
      ]
    },
    {
      "cell_type": "code",
      "source": [
        "#tuple\n",
        "my_tuple = (1, 2, 3, 4)\n",
        "print(my_tuple)\n",
        "\n",
        "# Tuples support indexing and slicing\n",
        "print(my_tuple[0])\n",
        "print(my_tuple[1:3])\n",
        "\n",
        "# Counting and finding elements\n",
        "print(my_tuple.count(2))\n",
        "print( my_tuple.index(3))\n"
      ],
      "metadata": {
        "colab": {
          "base_uri": "https://localhost:8080/"
        },
        "id": "wYvgEYnMJkaw",
        "outputId": "23def68d-31b4-4751-ddf3-4a6ff2f016ff"
      },
      "execution_count": null,
      "outputs": [
        {
          "output_type": "stream",
          "name": "stdout",
          "text": [
            "(1, 2, 3, 4)\n",
            "1\n",
            "(2, 3)\n",
            "1\n",
            "2\n"
          ]
        }
      ]
    },
    {
      "cell_type": "markdown",
      "source": [
        "\n",
        "5 - Describe the key features of sets and provide examples of their use.\n",
        "\n",
        "Answer - key features of sets are:\n",
        "\n",
        "Unordered: Elements in a set do not have a defined order.\n",
        "\n",
        "Unique Elements: Sets do not allow duplicate elements.\n",
        "\n",
        "Mutable: Sets are mutable, meaning you can add or remove elements.\n",
        "\n",
        "Heterogeneous: Sets can contain elements of different types, but all elements must be hashable."
      ],
      "metadata": {
        "id": "Fh6gn31dGbNx"
      }
    },
    {
      "cell_type": "code",
      "source": [
        "#set\n",
        "my_set = {1, 2, 3, 4, 5}\n",
        "print(my_set)\n",
        "\n",
        "another_set = set([1, 2, 3, 4, 5])\n",
        "print(another_set)"
      ],
      "metadata": {
        "colab": {
          "base_uri": "https://localhost:8080/"
        },
        "id": "RSMtX9RaGewI",
        "outputId": "329c0bed-e573-4213-8671-025a7bde7bf5"
      },
      "execution_count": null,
      "outputs": [
        {
          "output_type": "stream",
          "name": "stdout",
          "text": [
            "{1, 2, 3, 4, 5}\n",
            "{1, 2, 3, 4, 5}\n"
          ]
        }
      ]
    },
    {
      "cell_type": "code",
      "source": [
        "my_set = {1, 2, 3}\n",
        "\n",
        "# Adding an element\n",
        "my_set.add(4)\n",
        "print(my_set)\n",
        "\n",
        "# Removing an element\n",
        "my_set.remove(2)\n",
        "print(my_set)\n",
        "\n",
        "# Discarding an element (won't raise an error if the element is not present)\n",
        "my_set.discard(5)\n",
        "print(my_set)\n",
        "\n",
        "# Removing and returning an arbitrary element\n",
        "removed_element = my_set.pop()\n",
        "print(removed_element)\n",
        "print(my_set)\n",
        "\n",
        "# Clearing all elements\n",
        "my_set.clear()\n",
        "print(my_set)"
      ],
      "metadata": {
        "colab": {
          "base_uri": "https://localhost:8080/"
        },
        "id": "qeMZifCSGvI9",
        "outputId": "3da0bb63-b892-474a-fb39-7cbe912c7399"
      },
      "execution_count": null,
      "outputs": [
        {
          "output_type": "stream",
          "name": "stdout",
          "text": [
            "{1, 2, 3, 4}\n",
            "{1, 3, 4}\n",
            "{1, 3, 4}\n",
            "1\n",
            "{3, 4}\n",
            "set()\n"
          ]
        }
      ]
    },
    {
      "cell_type": "markdown",
      "source": [
        "6 - Discuss the use cases of tuples and sets in Python programming.\n",
        "\n",
        "Answer - Tuples and sets are both essential data structures in Python, each serving specific purposes due to their unique properties."
      ],
      "metadata": {
        "id": "SK80HoAoG3TK"
      }
    },
    {
      "cell_type": "code",
      "source": [
        "#set\n",
        "set1 = {1, 2, 3}\n",
        "set2 = {3, 4, 5}\n",
        "\n",
        "union = set1.union(set2)\n",
        "print(union)\n",
        "\n",
        "intersection = set1.intersection(set2)\n",
        "print(intersection)\n",
        "\n",
        "difference = set1.difference(set2)\n",
        "print(difference)\n",
        "\n",
        "symmetric_difference = set1.symmetric_difference(set2)\n",
        "print(symmetric_difference)\n",
        "\n",
        "\n",
        "#tuple\n",
        "thistuple = (\"apple\", \"banana\", \"cherry\", \"orange\", \"kiwi\", \"melon\", \"mango\")\n",
        "print(thistuple[2:5])\n",
        "\n",
        "thistuple = (\"apple\", \"banana\", \"cherry\")\n",
        "y = (\"orange\",)\n",
        "thistuple += y\n",
        "\n",
        "print(thistuple)\n",
        "\n",
        "\n",
        "x = (\"apple\", \"banana\", \"cherry\")\n",
        "y = list(x)\n",
        "y[1] = \"kiwi\"\n",
        "x = tuple(y)\n",
        "\n",
        "print(x)\n"
      ],
      "metadata": {
        "colab": {
          "base_uri": "https://localhost:8080/"
        },
        "id": "dOaH0GTMG4YM",
        "outputId": "67e01bbd-7c92-4f4b-f38d-0d95554e2ca9"
      },
      "execution_count": null,
      "outputs": [
        {
          "output_type": "stream",
          "name": "stdout",
          "text": [
            "{1, 2, 3, 4, 5}\n",
            "{3}\n",
            "{1, 2}\n",
            "{1, 2, 4, 5}\n",
            "('cherry', 'orange', 'kiwi')\n",
            "('apple', 'banana', 'cherry', 'orange')\n",
            "('apple', 'kiwi', 'cherry')\n"
          ]
        }
      ]
    },
    {
      "cell_type": "markdown",
      "source": [
        "7 - Describe how to add, modify and delete items in a dictionary with examples.\n",
        "\n",
        "Answer - Dictionaries in Python are collections of key-value pairs where each key is unique. They are mutable, allowing for the addition, modification, and deletion of items."
      ],
      "metadata": {
        "id": "6cPPAnPmHCMj"
      }
    },
    {
      "cell_type": "code",
      "source": [
        "my_dict = {}\n",
        "\n",
        "# Adding items\n",
        "my_dict['name'] = 'Alice'\n",
        "my_dict['age'] = 30\n",
        "my_dict['city'] = 'New York'\n",
        "print(my_dict)\n",
        "\n",
        "# Using update\n",
        "my_dict.update({'country': 'USA', 'occupation': 'Engineer'})\n",
        "print(my_dict)\n",
        "\n",
        "# Modifying items\n",
        "my_dict['age'] = 31\n",
        "my_dict['city'] = 'Los Angeles'\n",
        "print(my_dict)"
      ],
      "metadata": {
        "colab": {
          "base_uri": "https://localhost:8080/"
        },
        "id": "e-k2P_FQHDVb",
        "outputId": "fe3abf1e-02a2-4971-a7a5-0ef186c794c0"
      },
      "execution_count": null,
      "outputs": [
        {
          "output_type": "stream",
          "name": "stdout",
          "text": [
            "{'name': 'Alice', 'age': 30, 'city': 'New York'}\n",
            "{'name': 'Alice', 'age': 30, 'city': 'New York', 'country': 'USA', 'occupation': 'Engineer'}\n",
            "{'name': 'Alice', 'age': 31, 'city': 'Los Angeles', 'country': 'USA', 'occupation': 'Engineer'}\n"
          ]
        }
      ]
    },
    {
      "cell_type": "code",
      "source": [
        "# Deleting a specific item\n",
        "my_dict['name'] = 'Alice'\n",
        "my_dict['age'] = 30\n",
        "my_dict['city'] = 'New York'\n",
        "del my_dict['city']\n",
        "\n",
        "print(my_dict)\n",
        "\n",
        "\n",
        "# Deleting all items\n",
        "my_dict.clear()\n",
        "\n",
        "print(my_dict)\n"
      ],
      "metadata": {
        "colab": {
          "base_uri": "https://localhost:8080/"
        },
        "id": "kWBGLBjNHMx4",
        "outputId": "e8bab43b-b8d6-48e4-b0dc-0e9d930d946f"
      },
      "execution_count": null,
      "outputs": [
        {
          "output_type": "stream",
          "name": "stdout",
          "text": [
            "{'name': 'Alice', 'age': 30, 'country': 'USA', 'occupation': 'Engineer'}\n",
            "{}\n"
          ]
        }
      ]
    },
    {
      "cell_type": "markdown",
      "source": [
        "8 - Discuss the importance of dictionary keys being immutable and provide examples.\n",
        "\n",
        "Answer - In Python, dictionary keys must be immutable because immutability ensures that the key remains constant throughout the lifetime of the dictionary\n",
        "\n",
        "Importance of Immutable Keys Hash Consistency- Dictionary keys are hashed to quickly locate the associated values.Immutable objects have a fixed hash value that remains constant during their lifetime, which allows the dictionary to efficiently retrieve values.\n",
        "\n",
        "Data Integrity- Immutability guarantees that the key will not be altered, preserving the integrity of the dictionary's internal structure. This ensures that the key-value mappings are stable and reliable.\n",
        "\n",
        "Immutable Keys are Strings,Tuples,Integers and Floats."
      ],
      "metadata": {
        "id": "v0BB097fHR2F"
      }
    },
    {
      "cell_type": "code",
      "source": [
        "#string\n",
        "my_dict = {'name': 'Alice', 'age': 30}\n",
        "print(my_dict['name'])\n"
      ],
      "metadata": {
        "colab": {
          "base_uri": "https://localhost:8080/"
        },
        "id": "sveDFiQwHSyk",
        "outputId": "82575dc8-5726-4ae8-d94a-240aff639acd"
      },
      "execution_count": null,
      "outputs": [
        {
          "output_type": "stream",
          "name": "stdout",
          "text": [
            "Alice\n"
          ]
        }
      ]
    },
    {
      "cell_type": "code",
      "source": [
        "#tuple\n",
        "my_dict = {('x', 1): 'hello', ('y', 2): 'world'}\n",
        "print(my_dict[('x', 1)])"
      ],
      "metadata": {
        "colab": {
          "base_uri": "https://localhost:8080/"
        },
        "id": "cOP0rsAUHYPn",
        "outputId": "e642e00b-cd12-4d01-bf8b-389324dcfe81"
      },
      "execution_count": null,
      "outputs": [
        {
          "output_type": "stream",
          "name": "stdout",
          "text": [
            "hello\n"
          ]
        }
      ]
    },
    {
      "cell_type": "code",
      "source": [
        "#int and float\n",
        "my_dict = {1: 'one', 2: 'two'}\n",
        "print(my_dict[1])"
      ],
      "metadata": {
        "colab": {
          "base_uri": "https://localhost:8080/"
        },
        "id": "5Gt64YFkHcDa",
        "outputId": "f71f02c8-4633-48b5-a106-90f7d2ddbdec"
      },
      "execution_count": null,
      "outputs": [
        {
          "output_type": "stream",
          "name": "stdout",
          "text": [
            "one\n"
          ]
        }
      ]
    }
  ]
}